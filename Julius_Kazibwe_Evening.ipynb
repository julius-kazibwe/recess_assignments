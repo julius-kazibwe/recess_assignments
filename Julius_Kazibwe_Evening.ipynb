{
 "cells": [
  {
   "cell_type": "markdown",
   "metadata": {},
   "source": [
    "To compare the elements of two Pandas Series, you can use the comparison operators provided by Pandas. \n",
    "Here's a program that compares the elements of two given Series:"
   ]
  },
  {
   "cell_type": "code",
   "execution_count": 3,
   "metadata": {},
   "outputs": [],
   "source": [
    "import pandas as pd "
   ]
  },
  {
   "cell_type": "code",
   "execution_count": 4,
   "metadata": {},
   "outputs": [],
   "source": [
    "# Create the two Series\n",
    "\n",
    "series1 = pd.Series([4, 65, 436, 3, 9])\n",
    "series2 = pd.Series([7, 0, 3, 897, 9])"
   ]
  },
  {
   "cell_type": "code",
   "execution_count": 5,
   "metadata": {},
   "outputs": [
    {
     "name": "stdout",
     "output_type": "stream",
     "text": [
      "0    False\n",
      "1    False\n",
      "2    False\n",
      "3    False\n",
      "4     True\n",
      "dtype: bool\n"
     ]
    }
   ],
   "source": [
    "# Compare the elements using the comparison operator\n",
    "\n",
    "comparison = series1 == series2\n",
    "\n",
    "# Print the comparison result\n",
    "\n",
    "print(comparison)"
   ]
  },
  {
   "cell_type": "markdown",
   "metadata": {},
   "source": [
    "In the output, each element represents the comparison result of the corresponding elements from the two Series. In this example, the fifth element (index 4) of series1 is equal to the fifth element of series2, so the comparison result is True. The other elements are not equal, so the comparison result is False for them.\n"
   ]
  },
  {
   "cell_type": "markdown",
   "metadata": {},
   "source": [
    "Arithmetic operations on Pandas Series:"
   ]
  },
  {
   "cell_type": "code",
   "execution_count": 6,
   "metadata": {},
   "outputs": [],
   "source": [
    "# Define the sample series\n",
    "series1 = pd.Series([2, 4, 6, 8, 14])\n",
    "series2 = pd.Series([1, 3, 5, 7, 9])"
   ]
  },
  {
   "cell_type": "code",
   "execution_count": 7,
   "metadata": {},
   "outputs": [],
   "source": [
    "# Perform division\n",
    "\n",
    "division = series1 / series2\n"
   ]
  },
  {
   "cell_type": "code",
   "execution_count": 8,
   "metadata": {},
   "outputs": [],
   "source": [
    "# Perform addition\n",
    "addition = series1 + series2"
   ]
  },
  {
   "cell_type": "code",
   "execution_count": 9,
   "metadata": {},
   "outputs": [],
   "source": [
    "# Perform subtraction\n",
    "subtraction = series1 - series2"
   ]
  },
  {
   "cell_type": "code",
   "execution_count": 10,
   "metadata": {},
   "outputs": [],
   "source": [
    "# Perform subtraction\n",
    "multiplication = series1 * series2"
   ]
  },
  {
   "cell_type": "code",
   "execution_count": 11,
   "metadata": {},
   "outputs": [
    {
     "name": "stdout",
     "output_type": "stream",
     "text": [
      "   Series 1  Series 2  Addition  Subtraction  Multiplication  Division\n",
      "0         2         1         3            1               2  2.000000\n",
      "1         4         3         7            1              12  1.333333\n",
      "2         6         5        11            1              30  1.200000\n",
      "3         8         7        15            1              56  1.142857\n",
      "4        14         9        23            5             126  1.555556\n"
     ]
    }
   ],
   "source": [
    "# Create a DataFrame to display the results\n",
    "df = pd.DataFrame({'Series 1': series1, 'Series 2': series2, 'Addition': addition,\n",
    "                   'Subtraction': subtraction, 'Multiplication': multiplication,\n",
    "                   'Division': division})\n",
    "\n",
    "# Print the DataFrame\n",
    "print(df)"
   ]
  },
  {
   "cell_type": "markdown",
   "metadata": {},
   "source": [
    "The results are stored in a DataFrame for better visualization. \n",
    "Each column of the DataFrame represents a different operation performed on the series."
   ]
  },
  {
   "cell_type": "markdown",
   "metadata": {},
   "source": [
    "Conversion of a dictionary to a Pandas Series "
   ]
  },
  {
   "cell_type": "code",
   "execution_count": 12,
   "metadata": {},
   "outputs": [
    {
     "name": "stdout",
     "output_type": "stream",
     "text": [
      "Josh       24\n",
      "Sam        36\n",
      "Peace      19\n",
      "Charles    65\n",
      "Tom        44\n",
      "dtype: int64\n"
     ]
    }
   ],
   "source": [
    "# Define the sample dictionary\n",
    "dictionary1 = {'Josh': 24, 'Sam': 36, 'Peace': 19, 'Charles': 65, 'Tom': 44}\n",
    "\n",
    "# Convert the dictionary to a Pandas Series\n",
    "series1 = pd.Series(dictionary1)\n",
    "\n",
    "# Print the resulting series\n",
    "print(series1)"
   ]
  },
  {
   "cell_type": "markdown",
   "metadata": {},
   "source": [
    "In this program, we use the pd.Series() function to convert the dictionary dictionary1 into a Pandas Series. \n",
    "The resulting series is then printed. \n",
    "The keys of the dictionary become the index labels of the series, and the corresponding values are the elements of the series."
   ]
  },
  {
   "cell_type": "markdown",
   "metadata": {},
   "source": [
    "Conversion of a series to an array "
   ]
  },
  {
   "cell_type": "code",
   "execution_count": 13,
   "metadata": {},
   "outputs": [],
   "source": [
    "import numpy as np"
   ]
  },
  {
   "cell_type": "code",
   "execution_count": 14,
   "metadata": {},
   "outputs": [
    {
     "name": "stdout",
     "output_type": "stream",
     "text": [
      "['Love' 800 'Joy' 789.9 'Peace' True]\n"
     ]
    }
   ],
   "source": [
    "# Define the sample series\n",
    "series1 = pd.Series(['Love', 800, 'Joy', 789.9, 'Peace', True])\n",
    "\n",
    "# Convert the series to an array\n",
    "array1 = np.array(series1)\n",
    "\n",
    "# Print the resulting array\n",
    "print(array1)"
   ]
  },
  {
   "cell_type": "markdown",
   "metadata": {},
   "source": [
    "We use the np.array() function from the NumPy library to convert the series series1 to an array. \n",
    "The resulting array is then printed.\n",
    "Each element of the series is included in the array, maintaining the same order as in the original series."
   ]
  },
  {
   "cell_type": "markdown",
   "metadata": {},
   "source": [
    "Displaying the most frequent value in a given series and replacing everything else as 'Other' in the series, using Pandas' value_counts() function and conditional indexing. "
   ]
  },
  {
   "cell_type": "code",
   "execution_count": 15,
   "metadata": {},
   "outputs": [],
   "source": [
    "# Load the dataset \n",
    "data = pd.read_csv('AfricaCupofNationsMatches.csv')"
   ]
  },
  {
   "cell_type": "code",
   "execution_count": 16,
   "metadata": {},
   "outputs": [],
   "source": [
    "# Extract the 'HomeTeamGoals' column as a series\n",
    "home_goals = data['HomeTeamGoals']"
   ]
  },
  {
   "cell_type": "code",
   "execution_count": 17,
   "metadata": {},
   "outputs": [],
   "source": [
    "# Find the most frequent value\n",
    "most_frequent_value = home_goals.value_counts().idxmax()"
   ]
  },
  {
   "cell_type": "code",
   "execution_count": 18,
   "metadata": {},
   "outputs": [
    {
     "name": "stdout",
     "output_type": "stream",
     "text": [
      "0        1.0\n",
      "1      Other\n",
      "2      Other\n",
      "3      Other\n",
      "4        1.0\n",
      "       ...  \n",
      "617    Other\n",
      "618      1.0\n",
      "619    Other\n",
      "620    Other\n",
      "621    Other\n",
      "Name: HomeTeamGoals, Length: 622, dtype: object\n"
     ]
    },
    {
     "name": "stderr",
     "output_type": "stream",
     "text": [
      "/tmp/ipykernel_6985/2201521821.py:2: SettingWithCopyWarning: \n",
      "A value is trying to be set on a copy of a slice from a DataFrame\n",
      "\n",
      "See the caveats in the documentation: https://pandas.pydata.org/pandas-docs/stable/user_guide/indexing.html#returning-a-view-versus-a-copy\n",
      "  home_goals[home_goals != most_frequent_value] = 'Other'\n"
     ]
    }
   ],
   "source": [
    "# Replace other values as 'Other'\n",
    "home_goals[home_goals != most_frequent_value] = 'Other'\n",
    "\n",
    "# Print the modified series\n",
    "print(home_goals)"
   ]
  },
  {
   "cell_type": "markdown",
   "metadata": {},
   "source": [
    "The program first loads the dataset and extracts the 'HomeTeamGoals' column as a series called home_goals. \n",
    "The value_counts() function is then applied to calculate the frequency of each value in the series, and .idxmax() is used to find the most frequent value.\n",
    "\n",
    "Next, the program uses conditional indexing (home_goals != most_frequent_value) to select all values that are not equal to the most frequent value. \n",
    "These selected values are replaced with the string 'Other' using assignment (=).\n",
    "\n",
    "Finally, the modified series home_goals is printed, showing the most frequent value and replacing everything else with 'Other'."
   ]
  },
  {
   "cell_type": "markdown",
   "metadata": {},
   "source": []
  },
  {
   "cell_type": "code",
   "execution_count": 19,
   "metadata": {},
   "outputs": [],
   "source": [
    "# Load the dataset   \n",
    "df1 = pd.read_csv('AfricaCupofNationsMatches.csv')\n"
   ]
  },
  {
   "cell_type": "markdown",
   "metadata": {},
   "source": [
    "Get the first 7 rows of our dataframe(df1)"
   ]
  },
  {
   "cell_type": "code",
   "execution_count": 20,
   "metadata": {},
   "outputs": [
    {
     "name": "stdout",
     "output_type": "stream",
     "text": [
      "   Year      Date  Time    HomeTeam       AwayTeam  HomeTeamGoals  \\\n",
      "0  1957  10-Feb-57   NaN     Sudan           Egypt            1.0   \n",
      "1  1957  10-Feb-57   NaN  Ethiopia    South Africa            NaN   \n",
      "2  1957  16-Feb-57   NaN     Egypt        Ethiopia            4.0   \n",
      "3  1959  22-May-59   NaN      Egypt       Ethiopia            4.0   \n",
      "4  1959  25-May-59   NaN     Sudan        Ethiopia            1.0   \n",
      "5  1959  29-May-59   NaN      Egypt          Sudan            2.0   \n",
      "6  1962  14-Jan-62   NaN  Ethiopia         Tunisia            4.0   \n",
      "\n",
      "   AwayTeamGoals             Stage  \\\n",
      "0            2.0        Semifinals   \n",
      "1            NaN        Semifinals   \n",
      "2            0.0             Final   \n",
      "3            0.0  Final Tournament   \n",
      "4            0.0  Final Tournament   \n",
      "5            1.0  Final Tournament   \n",
      "6            2.0        Semifinals   \n",
      "\n",
      "                                SpecialWinConditions                 Stadium  \\\n",
      "0                                                NaN       Municipal Stadium   \n",
      "1  Ethiopia  wins due to disqualification of othe...                     NaN   \n",
      "2                                                NaN       Municipal Stadium   \n",
      "3                                                NaN   Prince Farouk Stadium   \n",
      "4                                                NaN   Prince Farouk Stadium   \n",
      "5                                                NaN   Prince Farouk Stadium   \n",
      "6                                                NaN  Hailé Sélassié Stadium   \n",
      "\n",
      "           City  Attendance  \n",
      "0      Khartoum     30000.0  \n",
      "1           NaN         NaN  \n",
      "2      Khartoum     30000.0  \n",
      "3         Cairo     30000.0  \n",
      "4         Cairo     20000.0  \n",
      "5         Cairo     30000.0  \n",
      "6   Addis Ababa     30000.0  \n"
     ]
    }
   ],
   "source": [
    "first_7_rows = df1.head(7)\n",
    "\n",
    "# print the results\n",
    "\n",
    "print(first_7_rows)"
   ]
  },
  {
   "cell_type": "markdown",
   "metadata": {},
   "source": [
    "Select specific columns "
   ]
  },
  {
   "cell_type": "code",
   "execution_count": 21,
   "metadata": {},
   "outputs": [
    {
     "name": "stdout",
     "output_type": "stream",
     "text": [
      "        HomeTeam       AwayTeam  HomeTeamGoals  AwayTeamGoals\n",
      "0         Sudan           Egypt            1.0            2.0\n",
      "1      Ethiopia    South Africa            NaN            NaN\n",
      "2         Egypt        Ethiopia            4.0            0.0\n",
      "3          Egypt       Ethiopia            4.0            0.0\n",
      "4         Sudan        Ethiopia            1.0            0.0\n",
      "..           ...            ...            ...            ...\n",
      "617  Madagascar         Tunisia            0.0            3.0\n",
      "618     Senegal         Tunisia            1.0            0.0\n",
      "619     Algeria         Nigeria            2.0            1.0\n",
      "620     Tunisia         Nigeria            0.0            1.0\n",
      "621     Senegal         Algeria            0.0            1.0\n",
      "\n",
      "[622 rows x 4 columns]\n"
     ]
    }
   ],
   "source": [
    "selected_columns = df1[['HomeTeam', 'AwayTeam', 'HomeTeamGoals', 'AwayTeamGoals']]\n",
    "\n",
    "print(selected_columns)\n"
   ]
  },
  {
   "cell_type": "code",
   "execution_count": 22,
   "metadata": {},
   "outputs": [
    {
     "name": "stdout",
     "output_type": "stream",
     "text": [
      "     Year                         Date   Time  HomeTeam       AwayTeam  \\\n",
      "0    1957                     10-Feb-57    NaN   Sudan           Egypt   \n",
      "2    1957                     16-Feb-57    NaN   Egypt        Ethiopia   \n",
      "3    1959                     22-May-59    NaN    Egypt       Ethiopia   \n",
      "5    1959                     29-May-59    NaN    Egypt          Sudan   \n",
      "7    1962                     18-Jan-62    NaN    Egypt         Uganda   \n",
      "..    ...                           ...    ...      ...            ...   \n",
      "569  2017  5 February 2017 (2017-02-05)  20:00   Egypt        Cameroon   \n",
      "570  2019     21 June 2019 (2019-06-21)  22:00   Egypt        Zimbabwe   \n",
      "573  2019     26 June 2019 (2019-06-26)  22:00   Egypt        DR Congo   \n",
      "574  2019     30 June 2019 (2019-06-30)  21:00  Uganda           Egypt   \n",
      "609  2019      6 July 2019 (2019-07-06)  21:00   Egypt    South Africa   \n",
      "\n",
      "     HomeTeamGoals  AwayTeamGoals             Stage SpecialWinConditions  \\\n",
      "0              1.0            2.0        Semifinals                  NaN   \n",
      "2              4.0            0.0             Final                  NaN   \n",
      "3              4.0            0.0  Final Tournament                  NaN   \n",
      "5              2.0            1.0  Final Tournament                  NaN   \n",
      "7              2.0            1.0        Semifinals                  NaN   \n",
      "..             ...            ...               ...                  ...   \n",
      "569            1.0            2.0             Final                  NaN   \n",
      "570            1.0            0.0           Group A                  NaN   \n",
      "573            2.0            0.0           Group A                  NaN   \n",
      "574            0.0            2.0           Group A                  NaN   \n",
      "609            0.0            1.0       Round of 16                  NaN   \n",
      "\n",
      "                         Stadium          City  Attendance  \n",
      "0              Municipal Stadium      Khartoum     30000.0  \n",
      "2              Municipal Stadium      Khartoum     30000.0  \n",
      "3          Prince Farouk Stadium         Cairo     30000.0  \n",
      "5          Prince Farouk Stadium         Cairo     30000.0  \n",
      "7         Hailé Sélassié Stadium   Addis Ababa     30000.0  \n",
      "..                           ...           ...         ...  \n",
      "569            Stade de l'Amitié    Libreville         NaN  \n",
      "570  Cairo International Stadium         Cairo     73299.0  \n",
      "573  Cairo International Stadium         Cairo     74219.0  \n",
      "574  Cairo International Stadium         Cairo     74566.0  \n",
      "609  Cairo International Stadium         Cairo     75000.0  \n",
      "\n",
      "[95 rows x 12 columns]\n"
     ]
    }
   ],
   "source": [
    "egypt_rows = df1[df1['HomeTeam'].str.contains('Egypt') | df1['AwayTeam'].str.contains('Egypt')]\n",
    "print(egypt_rows)\n"
   ]
  },
  {
   "cell_type": "code",
   "execution_count": 23,
   "metadata": {},
   "outputs": [
    {
     "name": "stdout",
     "output_type": "stream",
     "text": [
      "Number of rows: 622\n",
      "Number of rows: 12\n"
     ]
    }
   ],
   "source": [
    "num_rows, num_columns = df1.shape\n",
    "\n",
    "print(\"Number of rows:\", num_rows)\n",
    "print(\"Number of columns:\", num_columns)"
   ]
  },
  {
   "cell_type": "code",
   "execution_count": 25,
   "metadata": {},
   "outputs": [
    {
     "name": "stdout",
     "output_type": "stream",
     "text": [
      "     Year                         Date   Time        HomeTeam       AwayTeam  \\\n",
      "1    1957                     10-Feb-57    NaN      Ethiopia    South Africa   \n",
      "8    1962                     20-Jan-62    NaN       Tunisia          Uganda   \n",
      "9    1962                     21-Jan-62    NaN      Ethiopia           Egypt   \n",
      "10   1963                     24-Nov-63    NaN         Ghana         Tunisia   \n",
      "11   1963                     26-Nov-63    NaN         Ghana        Ethiopia   \n",
      "..    ...                           ...    ...            ...            ...   \n",
      "565  2017  29 January 2017 (2017-01-29)  20:00         Egypt         Morocco   \n",
      "566  2017  1 February 2017 (2017-02-01)  20:00  Burkina Faso           Egypt   \n",
      "567  2017  2 February 2017 (2017-02-02)  20:00      Cameroon           Ghana   \n",
      "568  2017  4 February 2017 (2017-02-04)  20:00  Burkina Faso           Ghana   \n",
      "569  2017  5 February 2017 (2017-02-05)  20:00         Egypt        Cameroon   \n",
      "\n",
      "     HomeTeamGoals  AwayTeamGoals                 Stage  \\\n",
      "1              NaN            NaN            Semifinals   \n",
      "8              3.0            0.0     Third place match   \n",
      "9              4.0            2.0                 Final   \n",
      "10             1.0            1.0               Group A   \n",
      "11             2.0            0.0               Group A   \n",
      "..             ...            ...                   ...   \n",
      "565            1.0            0.0        Quarter-finals   \n",
      "566            1.0            1.0           Semi-finals   \n",
      "567            2.0            0.0           Semi-finals   \n",
      "568            1.0            0.0  Third place play-off   \n",
      "569            1.0            2.0                 Final   \n",
      "\n",
      "                                  SpecialWinConditions  \\\n",
      "1    Ethiopia  wins due to disqualification of othe...   \n",
      "8                                                  NaN   \n",
      "9                                win after extra time    \n",
      "10                                                 NaN   \n",
      "11                                                 NaN   \n",
      "..                                                 ...   \n",
      "565                                                NaN   \n",
      "566                        Egypt win on Penalities 3-4   \n",
      "567                                                NaN   \n",
      "568                                                NaN   \n",
      "569                                                NaN   \n",
      "\n",
      "                    Stadium          City  Attendance  \n",
      "1                       NaN           NaN         NaN  \n",
      "8    Hailé Sélassié Stadium   Addis Ababa         NaN  \n",
      "9    Hailé Sélassié Stadium   Addis Ababa         NaN  \n",
      "10     Accra Sports Stadium         Accra         NaN  \n",
      "11     Accra Sports Stadium         Accra         NaN  \n",
      "..                      ...           ...         ...  \n",
      "565    Stade de Port-Gentil   Port-Gentil         NaN  \n",
      "566       Stade de l'Amitié    Libreville         NaN  \n",
      "567    Stade de Franceville   Franceville         NaN  \n",
      "568    Stade de Port-Gentil   Port-Gentil         NaN  \n",
      "569       Stade de l'Amitié    Libreville         NaN  \n",
      "\n",
      "[100 rows x 12 columns]\n"
     ]
    }
   ],
   "source": [
    "missing_attendance_rows = df1[df1['Attendance'].isna()]\n",
    "print(missing_attendance_rows)"
   ]
  },
  {
   "cell_type": "code",
   "execution_count": null,
   "metadata": {},
   "outputs": [],
   "source": [
    "\n",
    "\n",
    "\n",
    "\n",
    "\n",
    "\n",
    "\n"
   ]
  },
  {
   "cell_type": "code",
   "execution_count": 31,
   "metadata": {},
   "outputs": [
    {
     "name": "stdout",
     "output_type": "stream",
     "text": [
      "     Year                         Date   Time    HomeTeam     AwayTeam  \\\n",
      "2    1957                     16-Feb-57    NaN     Egypt      Ethiopia   \n",
      "3    1959                     22-May-59    NaN      Egypt     Ethiopia   \n",
      "6    1962                     14-Jan-62    NaN  Ethiopia       Tunisia   \n",
      "8    1962                     20-Jan-62    NaN   Tunisia        Uganda   \n",
      "9    1962                     21-Jan-62    NaN  Ethiopia         Egypt   \n",
      "..    ...                           ...    ...        ...          ...   \n",
      "553  2017  20 January 2017 (2017-01-20)  20:00   Morocco          Togo   \n",
      "585  2019     27 June 2019 (2019-06-27)  22:00     Kenya      Tanzania   \n",
      "595  2019     24 June 2019 (2019-06-24)  22:00      Mali    Mauritania   \n",
      "608  2019      6 July 2019 (2019-07-06)  18:00   Nigeria      Cameroon   \n",
      "611  2019      7 July 2019 (2019-07-07)  21:00   Algeria        Guinea   \n",
      "\n",
      "     HomeTeamGoals  AwayTeamGoals              Stage    SpecialWinConditions  \\\n",
      "2              4.0            0.0              Final                     NaN   \n",
      "3              4.0            0.0   Final Tournament                     NaN   \n",
      "6              4.0            2.0         Semifinals                     NaN   \n",
      "8              3.0            0.0  Third place match                     NaN   \n",
      "9              4.0            2.0              Final   win after extra time    \n",
      "..             ...            ...                ...                     ...   \n",
      "553            3.0            1.0            Group C                     NaN   \n",
      "585            3.0            2.0            Group C                     NaN   \n",
      "595            4.0            1.0            Group E                     NaN   \n",
      "608            3.0            2.0        Round of 16                     NaN   \n",
      "611            3.0            0.0        Round of 16                     NaN   \n",
      "\n",
      "                    Stadium          City  Attendance  \n",
      "2         Municipal Stadium      Khartoum     30000.0  \n",
      "3     Prince Farouk Stadium         Cairo     30000.0  \n",
      "6    Hailé Sélassié Stadium   Addis Ababa     30000.0  \n",
      "8    Hailé Sélassié Stadium   Addis Ababa         NaN  \n",
      "9    Hailé Sélassié Stadium   Addis Ababa         NaN  \n",
      "..                      ...           ...         ...  \n",
      "553            Stade d'Oyem          Oyem         NaN  \n",
      "585         30 June Stadium         Cairo      7233.0  \n",
      "595            Suez Stadium          Suez      6202.0  \n",
      "608      Alexandria Stadium    Alexandria     10000.0  \n",
      "611         30 June Stadium         Cairo      8205.0  \n",
      "\n",
      "[138 rows x 12 columns]\n"
     ]
    }
   ],
   "source": [
    "goal_range_rows = df1[(df1['HomeTeamGoals'] >=3) & (df1['HomeTeamGoals'] <=6)]\n",
    "\n",
    "print(goal_range_rows)"
   ]
  },
  {
   "cell_type": "code",
   "execution_count": 32,
   "metadata": {},
   "outputs": [
    {
     "data": {
      "text/html": [
       "<div>\n",
       "<style scoped>\n",
       "    .dataframe tbody tr th:only-of-type {\n",
       "        vertical-align: middle;\n",
       "    }\n",
       "\n",
       "    .dataframe tbody tr th {\n",
       "        vertical-align: top;\n",
       "    }\n",
       "\n",
       "    .dataframe thead th {\n",
       "        text-align: right;\n",
       "    }\n",
       "</style>\n",
       "<table border=\"1\" class=\"dataframe\">\n",
       "  <thead>\n",
       "    <tr style=\"text-align: right;\">\n",
       "      <th></th>\n",
       "      <th>Year</th>\n",
       "      <th>Date</th>\n",
       "      <th>Time</th>\n",
       "      <th>HomeTeam</th>\n",
       "      <th>AwayTeam</th>\n",
       "      <th>HomeTeamGoals</th>\n",
       "      <th>AwayTeamGoals</th>\n",
       "      <th>Stage</th>\n",
       "      <th>SpecialWinConditions</th>\n",
       "      <th>Stadium</th>\n",
       "      <th>City</th>\n",
       "      <th>Attendance</th>\n",
       "    </tr>\n",
       "  </thead>\n",
       "  <tbody>\n",
       "    <tr>\n",
       "      <th>0</th>\n",
       "      <td>1957</td>\n",
       "      <td>10-Feb-57</td>\n",
       "      <td>NaN</td>\n",
       "      <td>Sudan</td>\n",
       "      <td>Egypt</td>\n",
       "      <td>1.0</td>\n",
       "      <td>2.0</td>\n",
       "      <td>Semifinals</td>\n",
       "      <td>NaN</td>\n",
       "      <td>Municipal Stadium</td>\n",
       "      <td>Khartoum</td>\n",
       "      <td>30000.0</td>\n",
       "    </tr>\n",
       "    <tr>\n",
       "      <th>1</th>\n",
       "      <td>1957</td>\n",
       "      <td>10-Feb-57</td>\n",
       "      <td>NaN</td>\n",
       "      <td>Ethiopia</td>\n",
       "      <td>South Africa</td>\n",
       "      <td>NaN</td>\n",
       "      <td>NaN</td>\n",
       "      <td>Semifinals</td>\n",
       "      <td>Ethiopia  wins due to disqualification of othe...</td>\n",
       "      <td>NaN</td>\n",
       "      <td>NaN</td>\n",
       "      <td>NaN</td>\n",
       "    </tr>\n",
       "    <tr>\n",
       "      <th>2</th>\n",
       "      <td>1957</td>\n",
       "      <td>16-Feb-57</td>\n",
       "      <td>NaN</td>\n",
       "      <td>Egypt</td>\n",
       "      <td>Ethiopia</td>\n",
       "      <td>4.0</td>\n",
       "      <td>10.0</td>\n",
       "      <td>Final</td>\n",
       "      <td>NaN</td>\n",
       "      <td>Municipal Stadium</td>\n",
       "      <td>Khartoum</td>\n",
       "      <td>30000.0</td>\n",
       "    </tr>\n",
       "    <tr>\n",
       "      <th>3</th>\n",
       "      <td>1959</td>\n",
       "      <td>22-May-59</td>\n",
       "      <td>NaN</td>\n",
       "      <td>Egypt</td>\n",
       "      <td>Ethiopia</td>\n",
       "      <td>4.0</td>\n",
       "      <td>0.0</td>\n",
       "      <td>Final Tournament</td>\n",
       "      <td>NaN</td>\n",
       "      <td>Prince Farouk Stadium</td>\n",
       "      <td>Cairo</td>\n",
       "      <td>30000.0</td>\n",
       "    </tr>\n",
       "    <tr>\n",
       "      <th>4</th>\n",
       "      <td>1959</td>\n",
       "      <td>25-May-59</td>\n",
       "      <td>NaN</td>\n",
       "      <td>Sudan</td>\n",
       "      <td>Ethiopia</td>\n",
       "      <td>1.0</td>\n",
       "      <td>0.0</td>\n",
       "      <td>Final Tournament</td>\n",
       "      <td>NaN</td>\n",
       "      <td>Prince Farouk Stadium</td>\n",
       "      <td>Cairo</td>\n",
       "      <td>20000.0</td>\n",
       "    </tr>\n",
       "    <tr>\n",
       "      <th>...</th>\n",
       "      <td>...</td>\n",
       "      <td>...</td>\n",
       "      <td>...</td>\n",
       "      <td>...</td>\n",
       "      <td>...</td>\n",
       "      <td>...</td>\n",
       "      <td>...</td>\n",
       "      <td>...</td>\n",
       "      <td>...</td>\n",
       "      <td>...</td>\n",
       "      <td>...</td>\n",
       "      <td>...</td>\n",
       "    </tr>\n",
       "    <tr>\n",
       "      <th>617</th>\n",
       "      <td>2019</td>\n",
       "      <td>11 July 2019 (2019-07-11)</td>\n",
       "      <td>21:00</td>\n",
       "      <td>Madagascar</td>\n",
       "      <td>Tunisia</td>\n",
       "      <td>0.0</td>\n",
       "      <td>3.0</td>\n",
       "      <td>Quarter-finals</td>\n",
       "      <td>NaN</td>\n",
       "      <td>Al Salam Stadium</td>\n",
       "      <td>Cairo</td>\n",
       "      <td>7568.0</td>\n",
       "    </tr>\n",
       "    <tr>\n",
       "      <th>618</th>\n",
       "      <td>2019</td>\n",
       "      <td>14 July 2019 (2019-07-14)</td>\n",
       "      <td>18:00</td>\n",
       "      <td>Senegal</td>\n",
       "      <td>Tunisia</td>\n",
       "      <td>1.0</td>\n",
       "      <td>0.0</td>\n",
       "      <td>Semi-finals</td>\n",
       "      <td>win after extra time</td>\n",
       "      <td>30 June Stadium</td>\n",
       "      <td>Cairo</td>\n",
       "      <td>9143.0</td>\n",
       "    </tr>\n",
       "    <tr>\n",
       "      <th>619</th>\n",
       "      <td>2019</td>\n",
       "      <td>14 July 2019 (2019-07-14)</td>\n",
       "      <td>21:00</td>\n",
       "      <td>Algeria</td>\n",
       "      <td>Nigeria</td>\n",
       "      <td>2.0</td>\n",
       "      <td>1.0</td>\n",
       "      <td>Semi-finals</td>\n",
       "      <td>NaN</td>\n",
       "      <td>Cairo International Stadium</td>\n",
       "      <td>Cairo</td>\n",
       "      <td>49775.0</td>\n",
       "    </tr>\n",
       "    <tr>\n",
       "      <th>620</th>\n",
       "      <td>2019</td>\n",
       "      <td>17 July 2019 (2019-07-17)</td>\n",
       "      <td>21:00</td>\n",
       "      <td>Tunisia</td>\n",
       "      <td>Nigeria</td>\n",
       "      <td>0.0</td>\n",
       "      <td>1.0</td>\n",
       "      <td>Third place play-off</td>\n",
       "      <td>NaN</td>\n",
       "      <td>Al Salam Stadium</td>\n",
       "      <td>Cairo</td>\n",
       "      <td>6340.0</td>\n",
       "    </tr>\n",
       "    <tr>\n",
       "      <th>621</th>\n",
       "      <td>2019</td>\n",
       "      <td>19 July 2019 (2019-07-19)</td>\n",
       "      <td>21:00</td>\n",
       "      <td>Senegal</td>\n",
       "      <td>Algeria</td>\n",
       "      <td>0.0</td>\n",
       "      <td>1.0</td>\n",
       "      <td>Final</td>\n",
       "      <td>NaN</td>\n",
       "      <td>Cairo International Stadium</td>\n",
       "      <td>Cairo</td>\n",
       "      <td>75000.0</td>\n",
       "    </tr>\n",
       "  </tbody>\n",
       "</table>\n",
       "<p>622 rows × 12 columns</p>\n",
       "</div>"
      ],
      "text/plain": [
       "     Year                      Date   Time      HomeTeam       AwayTeam  \\\n",
       "0    1957                  10-Feb-57    NaN       Sudan           Egypt   \n",
       "1    1957                  10-Feb-57    NaN    Ethiopia    South Africa   \n",
       "2    1957                  16-Feb-57    NaN       Egypt        Ethiopia   \n",
       "3    1959                  22-May-59    NaN        Egypt       Ethiopia   \n",
       "4    1959                  25-May-59    NaN       Sudan        Ethiopia   \n",
       "..    ...                        ...    ...          ...            ...   \n",
       "617  2019  11 July 2019 (2019-07-11)  21:00  Madagascar         Tunisia   \n",
       "618  2019  14 July 2019 (2019-07-14)  18:00     Senegal         Tunisia   \n",
       "619  2019  14 July 2019 (2019-07-14)  21:00     Algeria         Nigeria   \n",
       "620  2019  17 July 2019 (2019-07-17)  21:00     Tunisia         Nigeria   \n",
       "621  2019  19 July 2019 (2019-07-19)  21:00     Senegal         Algeria   \n",
       "\n",
       "     HomeTeamGoals  AwayTeamGoals                 Stage  \\\n",
       "0              1.0            2.0            Semifinals   \n",
       "1              NaN            NaN            Semifinals   \n",
       "2              4.0           10.0                 Final   \n",
       "3              4.0            0.0      Final Tournament   \n",
       "4              1.0            0.0      Final Tournament   \n",
       "..             ...            ...                   ...   \n",
       "617            0.0            3.0        Quarter-finals   \n",
       "618            1.0            0.0           Semi-finals   \n",
       "619            2.0            1.0           Semi-finals   \n",
       "620            0.0            1.0  Third place play-off   \n",
       "621            0.0            1.0                 Final   \n",
       "\n",
       "                                  SpecialWinConditions  \\\n",
       "0                                                  NaN   \n",
       "1    Ethiopia  wins due to disqualification of othe...   \n",
       "2                                                  NaN   \n",
       "3                                                  NaN   \n",
       "4                                                  NaN   \n",
       "..                                                 ...   \n",
       "617                                                NaN   \n",
       "618                              win after extra time    \n",
       "619                                                NaN   \n",
       "620                                                NaN   \n",
       "621                                                NaN   \n",
       "\n",
       "                         Stadium       City  Attendance  \n",
       "0              Municipal Stadium   Khartoum     30000.0  \n",
       "1                            NaN        NaN         NaN  \n",
       "2              Municipal Stadium   Khartoum     30000.0  \n",
       "3          Prince Farouk Stadium      Cairo     30000.0  \n",
       "4          Prince Farouk Stadium      Cairo     20000.0  \n",
       "..                           ...        ...         ...  \n",
       "617             Al Salam Stadium      Cairo      7568.0  \n",
       "618              30 June Stadium      Cairo      9143.0  \n",
       "619  Cairo International Stadium      Cairo     49775.0  \n",
       "620             Al Salam Stadium      Cairo      6340.0  \n",
       "621  Cairo International Stadium      Cairo     75000.0  \n",
       "\n",
       "[622 rows x 12 columns]"
      ]
     },
     "execution_count": 32,
     "metadata": {},
     "output_type": "execute_result"
    }
   ],
   "source": [
    "df1.loc[2, 'AwayTeamGoals'] = 10\n",
    "df1"
   ]
  },
  {
   "cell_type": "code",
   "execution_count": 36,
   "metadata": {},
   "outputs": [
    {
     "name": "stdout",
     "output_type": "stream",
     "text": [
      "     Year                         Date           Time    HomeTeam  \\\n",
      "205  1990                      2-Mar-90            NaN   Algeria    \n",
      "29   1968                     14-Jan-68            NaN   Algeria    \n",
      "135  1980                     16-Mar-80            NaN   Algeria    \n",
      "164  1984                      5-Mar-84            NaN   Algeria    \n",
      "171  1984                     17-Mar-84            NaN   Algeria    \n",
      "..    ...                           ...            ...        ...   \n",
      "521  2012                     12-Feb-12  20:30[note 1]    Zambia    \n",
      "549  2017  23 January 2017 (2017-01-23)          20:00  Zimbabwe    \n",
      "398  2004                     25-Jan-04          16:30  Zimbabwe    \n",
      "437  2006                     23-Jan-06          20:00  Zimbabwe    \n",
      "575  2019     30 June 2019 (2019-06-30)          21:00  Zimbabwe    \n",
      "\n",
      "         AwayTeam  HomeTeamGoals  AwayTeamGoals              Stage  \\\n",
      "205       Nigeria            5.0            1.0            Group A   \n",
      "29         Uganda            4.0            0.0            Group A   \n",
      "135        Guinea            3.0            2.0            Group B   \n",
      "164        Malawi            3.0            0.0            Group B   \n",
      "171         Egypt            3.0            1.0  Third place match   \n",
      "..            ...            ...            ...                ...   \n",
      "521   Ivory Coast            0.0            0.0              Final   \n",
      "549       Tunisia            2.0            4.0            Group B   \n",
      "398         Egypt            1.0            2.0            Group C   \n",
      "437       Senegal            0.0            2.0            Group D   \n",
      "575      DR Congo            0.0            4.0            Group A   \n",
      "\n",
      "              SpecialWinConditions                       Stadium  \\\n",
      "205                            NaN          Stade 5 Juillet 1962   \n",
      "29                             NaN        Hailé Sélassié Stadium   \n",
      "135                            NaN               Liberty Stadium   \n",
      "164                            NaN                  Stade Bouaké   \n",
      "171                            NaN  Stade Félix Houphouët-Boigny   \n",
      "..                             ...                           ...   \n",
      "521  Zambia  win on Penalities 8-7              Stade d'Angondjé   \n",
      "549                            NaN             Stade de l'Amitié   \n",
      "398                            NaN          Stade Taïeb El Mhiri   \n",
      "437                            NaN             Port Said Stadium   \n",
      "575                            NaN               30 June Stadium   \n",
      "\n",
      "             City  Attendance  \n",
      "205       Algiers     85000.0  \n",
      "29    Addis Ababa     25000.0  \n",
      "135        Ibadan     20000.0  \n",
      "164        Bouaké     10000.0  \n",
      "171       Abidjan       500.0  \n",
      "..            ...         ...  \n",
      "521    Libreville     40000.0  \n",
      "549    Libreville         NaN  \n",
      "398          Sfax     22000.0  \n",
      "437     Port Said     15000.0  \n",
      "575         Cairo      4364.0  \n",
      "\n",
      "[622 rows x 12 columns]\n"
     ]
    }
   ],
   "source": [
    "sorted_df = df1.sort_values(['HomeTeam', 'HomeTeamGoals'], ascending = [True, False])\n",
    "\n",
    "print(sorted_df)"
   ]
  },
  {
   "cell_type": "code",
   "execution_count": 37,
   "metadata": {},
   "outputs": [
    {
     "name": "stdout",
     "output_type": "stream",
     "text": [
      "['Year', 'Date ', 'Time ', 'HomeTeam', 'AwayTeam', 'HomeTeamGoals', 'AwayTeamGoals', 'Stage', 'SpecialWinConditions', 'Stadium', 'City', 'Attendance']\n"
     ]
    }
   ],
   "source": [
    "column_headers = list(df1.columns)\n",
    "\n",
    "print(column_headers)"
   ]
  },
  {
   "cell_type": "code",
   "execution_count": 49,
   "metadata": {},
   "outputs": [
    {
     "data": {
      "text/html": [
       "<div>\n",
       "<style scoped>\n",
       "    .dataframe tbody tr th:only-of-type {\n",
       "        vertical-align: middle;\n",
       "    }\n",
       "\n",
       "    .dataframe tbody tr th {\n",
       "        vertical-align: top;\n",
       "    }\n",
       "\n",
       "    .dataframe thead th {\n",
       "        text-align: right;\n",
       "    }\n",
       "</style>\n",
       "<table border=\"1\" class=\"dataframe\">\n",
       "  <thead>\n",
       "    <tr style=\"text-align: right;\">\n",
       "      <th></th>\n",
       "      <th>Referee</th>\n",
       "    </tr>\n",
       "  </thead>\n",
       "  <tbody>\n",
       "    <tr>\n",
       "      <th>0</th>\n",
       "      <td>julius</td>\n",
       "    </tr>\n",
       "    <tr>\n",
       "      <th>1</th>\n",
       "      <td>Kazibwe</td>\n",
       "    </tr>\n",
       "  </tbody>\n",
       "</table>\n",
       "</div>"
      ],
      "text/plain": [
       "   Referee\n",
       "0   julius\n",
       "1  Kazibwe"
      ]
     },
     "execution_count": 49,
     "metadata": {},
     "output_type": "execute_result"
    }
   ],
   "source": [
    "new_column = pd.Series(['julius', 'Kazibwe'])\n",
    "\n",
    "df1['Referee'] = new_column\n",
    "\n",
    "df1\n"
   ]
  },
  {
   "cell_type": "code",
   "execution_count": 51,
   "metadata": {},
   "outputs": [
    {
     "ename": "AttributeError",
     "evalue": "'DataFrame' object has no attribute 'append'",
     "output_type": "error",
     "traceback": [
      "\u001b[0;31m---------------------------------------------------------------------------\u001b[0m",
      "\u001b[0;31mAttributeError\u001b[0m                            Traceback (most recent call last)",
      "\u001b[0;32m/tmp/ipykernel_6985/1506711369.py\u001b[0m in \u001b[0;36m?\u001b[0;34m()\u001b[0m\n\u001b[1;32m      1\u001b[0m new_rows = [{'HomeTeam': 'Uganda', 'AwayTeam': 'D.R.Congo', 'HomeTeamGoals': 2, 'AwayTeamGoals': 1},\n\u001b[1;32m      2\u001b[0m             {'HomeTeam': 'Ghana', 'AwayTeam': 'Tunisia', 'HomeTeamGoals': 3, 'AwayTeamGoals': 2}]\n\u001b[1;32m      3\u001b[0m \u001b[0;34m\u001b[0m\u001b[0m\n\u001b[1;32m      4\u001b[0m \u001b[0;34m\u001b[0m\u001b[0m\n\u001b[0;32m----> 5\u001b[0;31m \u001b[0mdf1\u001b[0m \u001b[0;34m=\u001b[0m \u001b[0mdf1\u001b[0m\u001b[0;34m.\u001b[0m\u001b[0mappend\u001b[0m\u001b[0;34m(\u001b[0m\u001b[0mnew_rows\u001b[0m\u001b[0;34m,\u001b[0m \u001b[0mignore_index\u001b[0m \u001b[0;34m=\u001b[0m \u001b[0;32mTrue\u001b[0m\u001b[0;34m)\u001b[0m\u001b[0;34m\u001b[0m\u001b[0;34m\u001b[0m\u001b[0m\n\u001b[0m\u001b[1;32m      6\u001b[0m \u001b[0mdf1\u001b[0m\u001b[0;34m\u001b[0m\u001b[0;34m\u001b[0m\u001b[0m\n",
      "\u001b[0;32m~/.local/lib/python3.10/site-packages/pandas/core/generic.py\u001b[0m in \u001b[0;36m?\u001b[0;34m(self, name)\u001b[0m\n\u001b[1;32m   5985\u001b[0m             \u001b[0;32mand\u001b[0m \u001b[0mname\u001b[0m \u001b[0;32mnot\u001b[0m \u001b[0;32min\u001b[0m \u001b[0mself\u001b[0m\u001b[0;34m.\u001b[0m\u001b[0m_accessors\u001b[0m\u001b[0;34m\u001b[0m\u001b[0;34m\u001b[0m\u001b[0m\n\u001b[1;32m   5986\u001b[0m             \u001b[0;32mand\u001b[0m \u001b[0mself\u001b[0m\u001b[0;34m.\u001b[0m\u001b[0m_info_axis\u001b[0m\u001b[0;34m.\u001b[0m\u001b[0m_can_hold_identifiers_and_holds_name\u001b[0m\u001b[0;34m(\u001b[0m\u001b[0mname\u001b[0m\u001b[0;34m)\u001b[0m\u001b[0;34m\u001b[0m\u001b[0;34m\u001b[0m\u001b[0m\n\u001b[1;32m   5987\u001b[0m         ):\n\u001b[1;32m   5988\u001b[0m             \u001b[0;32mreturn\u001b[0m \u001b[0mself\u001b[0m\u001b[0;34m[\u001b[0m\u001b[0mname\u001b[0m\u001b[0;34m]\u001b[0m\u001b[0;34m\u001b[0m\u001b[0;34m\u001b[0m\u001b[0m\n\u001b[0;32m-> 5989\u001b[0;31m         \u001b[0;32mreturn\u001b[0m \u001b[0mobject\u001b[0m\u001b[0;34m.\u001b[0m\u001b[0m__getattribute__\u001b[0m\u001b[0;34m(\u001b[0m\u001b[0mself\u001b[0m\u001b[0;34m,\u001b[0m \u001b[0mname\u001b[0m\u001b[0;34m)\u001b[0m\u001b[0;34m\u001b[0m\u001b[0;34m\u001b[0m\u001b[0m\n\u001b[0m",
      "\u001b[0;31mAttributeError\u001b[0m: 'DataFrame' object has no attribute 'append'"
     ]
    }
   ],
   "source": [
    "new_rows = [{'HomeTeam': 'Uganda', 'AwayTeam': 'D.R.Congo', 'HomeTeamGoals': 2, 'AwayTeamGoals': 1},\n",
    "            {'HomeTeam': 'Ghana', 'AwayTeam': 'Tunisia', 'HomeTeamGoals': 3, 'AwayTeamGoals': 2}]\n",
    "\n",
    "\n",
    "df1 = df1.append(new_rows, ignore_index = True)\n",
    "df1"
   ]
  }
 ],
 "metadata": {
  "kernelspec": {
   "display_name": "Python 3 (ipykernel)",
   "language": "python",
   "name": "python3"
  },
  "language_info": {
   "codemirror_mode": {
    "name": "ipython",
    "version": 3
   },
   "file_extension": ".py",
   "mimetype": "text/x-python",
   "name": "python",
   "nbconvert_exporter": "python",
   "pygments_lexer": "ipython3",
   "version": "3.10.6"
  }
 },
 "nbformat": 4,
 "nbformat_minor": 2
}
